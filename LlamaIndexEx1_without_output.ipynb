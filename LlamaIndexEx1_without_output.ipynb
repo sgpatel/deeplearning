{
  "nbformat": 4,
  "nbformat_minor": 0,
  "metadata": {
    "colab": {
      "provenance": [],
      "gpuType": "T4",
      "authorship_tag": "ABX9TyN2tv1JkW+50Y/N/rfRjO0r",
      "include_colab_link": true
    },
    "kernelspec": {
      "name": "python3",
      "display_name": "Python 3"
    },
    "language_info": {
      "name": "python"
    },
    "accelerator": "GPU"
  },
  "cells": [
    {
      "cell_type": "markdown",
      "metadata": {
        "id": "view-in-github",
        "colab_type": "text"
      },
      "source": [
        "<a href=\"https://colab.research.google.com/github/sgpatel/deeplearning/blob/main/LlamaIndexEx1_without_output.ipynb\" target=\"_parent\"><img src=\"https://colab.research.google.com/assets/colab-badge.svg\" alt=\"Open In Colab\"/></a>"
      ]
    },
    {
      "cell_type": "code",
      "execution_count": null,
      "metadata": {
        "id": "jsBEt1aiURkU"
      },
      "outputs": [],
      "source": [
        "!pip install llama-index"
      ]
    },
    {
      "cell_type": "code",
      "source": [
        "pip install llama-index-llms-ollama"
      ],
      "metadata": {
        "id": "a1wyEU9jV_s6"
      },
      "execution_count": null,
      "outputs": []
    },
    {
      "cell_type": "code",
      "source": [
        "pip install llama-index-embeddings-ollama"
      ],
      "metadata": {
        "id": "ePsdGbT_W95l"
      },
      "execution_count": null,
      "outputs": []
    },
    {
      "cell_type": "code",
      "source": [
        "!curl -fsSL https://ollama.com/install.sh | sh"
      ],
      "metadata": {
        "id": "jV3TiJCKZazJ"
      },
      "execution_count": null,
      "outputs": []
    },
    {
      "cell_type": "code",
      "source": [
        "!pip install colab-xterm\n",
        "%load_ext colabxterm"
      ],
      "metadata": {
        "id": "cP7StkEwaeVl"
      },
      "execution_count": null,
      "outputs": []
    },
    {
      "cell_type": "code",
      "source": [
        "%xterm"
      ],
      "metadata": {
        "id": "Xytt5wcCal0j"
      },
      "execution_count": null,
      "outputs": []
    },
    {
      "cell_type": "code",
      "source": [
        "from llama_index.core import VectorStoreIndex, SimpleDirectoryReader, Settings\n",
        "from llama_index.embeddings.ollama import OllamaEmbedding\n",
        "from llama_index.llms.ollama import Ollama\n",
        "\n",
        "documents = SimpleDirectoryReader(\"/content/mydata\").load_data()\n",
        "\n",
        "# nomic embedding model\n",
        "Settings.embed_model = OllamaEmbedding(model_name=\"nomic-embed-text\")\n",
        "\n",
        "# ollama\n",
        "Settings.llm = Ollama(model=\"llama3\", request_timeout=360.0)\n",
        "\n",
        "index = VectorStoreIndex.from_documents(\n",
        "    documents,\n",
        ")\n",
        "print(len(documents))\n",
        "print(documents)"
      ],
      "metadata": {
        "id": "JZgNTsIBVwzH"
      },
      "execution_count": null,
      "outputs": []
    },
    {
      "cell_type": "code",
      "source": [
        "import requests\n",
        "\n",
        "response = requests.get(\"http://localhost:11434/api/chat\")\n",
        "\n",
        "if response.status_code == 200:\n",
        "    print(\"Ollama API is running and accessible.\")\n",
        "else:\n",
        "    print(\"Error connecting to Ollama API. Check the API status.\")"
      ],
      "metadata": {
        "id": "t_Ajau9SduEc"
      },
      "execution_count": null,
      "outputs": []
    },
    {
      "cell_type": "code",
      "source": [
        "query_engine = index.as_query_engine()\n",
        "response = query_engine.query(\"Are you able to read Resume_Shiv_2024.pdf document?\")\n",
        "print(response)"
      ],
      "metadata": {
        "id": "L4gSq-hYcHDy"
      },
      "execution_count": null,
      "outputs": []
    },
    {
      "cell_type": "code",
      "source": [
        "response = query_engine.query(\"What are the skills Shiv Govind Patel has?\")\n",
        "print(response)"
      ],
      "metadata": {
        "id": "9BLkt9_LjjTe"
      },
      "execution_count": null,
      "outputs": []
    },
    {
      "cell_type": "code",
      "source": [
        "response = query_engine.query(\"What is the years of work experience, company names, designation of Shiv Govind Patel?\")\n",
        "print(response)"
      ],
      "metadata": {
        "id": "j0m-NlHOjz8Q"
      },
      "execution_count": null,
      "outputs": []
    }
  ]
}